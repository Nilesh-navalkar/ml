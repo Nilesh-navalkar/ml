{
  "cells": [
    {
      "cell_type": "code",
      "execution_count": null,
      "metadata": {
        "colab": {
          "base_uri": "https://localhost:8080/"
        },
        "id": "CFFAgpW96oeZ",
        "outputId": "211d6406-9078-4676-dd75-30f69c54b6bc"
      },
      "outputs": [
        {
          "name": "stderr",
          "output_type": "stream",
          "text": [
            "<ipython-input-2-5d2e4ac8d649>:14: DeprecationWarning: numpy.core.umath_tests is an internal NumPy module and should not be imported. It will be removed in a future NumPy release.\n",
            "  from numpy.core.umath_tests import matrix_multiply as mm\n"
          ]
        }
      ],
      "source": [
        "import os\n",
        "import sys\n",
        "import glob\n",
        "import matplotlib.pyplot as plt\n",
        "import numpy as np\n",
        "import pandas as pd\n",
        "%matplotlib inline\n",
        "plt.style.use('ggplot')\n",
        "np.random.seed(1234)\n",
        "\n",
        "np.set_printoptions(formatter={'all':lambda x: '%.3f' % x})\n",
        "\n",
        "from IPython.display import Image\n",
        "from numpy.core.umath_tests import matrix_multiply as mm\n",
        "from scipy.optimize import minimize\n",
        "from scipy.stats import bernoulli, binom"
      ]
    },
    {
      "cell_type": "code",
      "execution_count": null,
      "metadata": {},
      "outputs": [],
      "source": [
        "#em"
      ]
    },
    {
      "cell_type": "code",
      "execution_count": null,
      "metadata": {
        "id": "_Tmeg6pZ8FlP"
      },
      "outputs": [],
      "source": [
        "def neg_loglik(thetas, n, xs, zs):\n",
        "    return -np.sum([binom(n, thetas[z]).logpmf(x) for (x, z) in zip(xs, zs)])"
      ]
    },
    {
      "cell_type": "code",
      "execution_count": null,
      "metadata": {
        "id": "2YMpB5EP8ITI"
      },
      "outputs": [],
      "source": [
        "m = 10\n",
        "theta_A = 0.8\n",
        "theta_B = 0.3\n",
        "theta_0 = [theta_A, theta_B]\n",
        "\n",
        "coin_A = bernoulli(theta_A)\n",
        "coin_B = bernoulli(theta_B)\n",
        "\n",
        "xs = list(map(sum, [coin_A.rvs(m), coin_A.rvs(m), coin_B.rvs(m), coin_A.rvs(m), coin_B.rvs(m)]))\n",
        "zs = [0, 0, 1, 0, 1]"
      ]
    },
    {
      "cell_type": "code",
      "execution_count": null,
      "metadata": {
        "colab": {
          "base_uri": "https://localhost:8080/"
        },
        "id": "f1rX3f-h8NSw",
        "outputId": "c619f662-c37c-4468-8eb7-ade5e7012ce4"
      },
      "outputs": [
        {
          "data": {
            "text/plain": [
              "array([8.000, 7.000, 3.000, 8.000, 3.000])"
            ]
          },
          "execution_count": 9,
          "metadata": {},
          "output_type": "execute_result"
        }
      ],
      "source": [
        "xs = np.array(xs)\n",
        "xs"
      ]
    },
    {
      "cell_type": "code",
      "execution_count": null,
      "metadata": {
        "colab": {
          "base_uri": "https://localhost:8080/"
        },
        "id": "Czz7t0vA8YM0",
        "outputId": "c9501f62-8b58-4627-c64a-a5cb08366997"
      },
      "outputs": [
        {
          "data": {
            "text/plain": [
              "(0.7666666666666667, 0.3)"
            ]
          },
          "execution_count": 10,
          "metadata": {},
          "output_type": "execute_result"
        }
      ],
      "source": [
        "ml_A = np.sum(xs[[0,1,3]])/(3.0*m)\n",
        "ml_B = np.sum(xs[[2,4]])/(2.0*m)\n",
        "ml_A, ml_B"
      ]
    },
    {
      "cell_type": "code",
      "execution_count": null,
      "metadata": {
        "colab": {
          "base_uri": "https://localhost:8080/"
        },
        "id": "pvAREYIo891W",
        "outputId": "eba0f875-b2af-4d90-adcf-2a67b38a8903"
      },
      "outputs": [
        {
          "name": "stderr",
          "output_type": "stream",
          "text": [
            "<ipython-input-11-5036138aa02e>:2: OptimizeWarning: Unknown solver options: maxiter\n",
            "  minimize(neg_loglik, [0.5, 0.5], args=(m, xs, zs),\n"
          ]
        },
        {
          "data": {
            "text/plain": [
              " message: Converged (|f_n-f_(n-1)| ~= 0)\n",
              " success: True\n",
              "  status: 1\n",
              "     fun: 6.5396692742274904\n",
              "       x: [ 7.667e-01  3.000e-01]\n",
              "     nit: 8\n",
              "     jac: [ 4.439e-04 -2.476e-04]\n",
              "    nfev: 114"
            ]
          },
          "execution_count": 11,
          "metadata": {},
          "output_type": "execute_result"
        }
      ],
      "source": [
        "bnds = [(0,1), (0,1)]\n",
        "minimize(neg_loglik, [0.5, 0.5], args=(m, xs, zs),\n",
        "         bounds=bnds, method='tnc', options={'maxiter': 100})"
      ]
    },
    {
      "cell_type": "code",
      "execution_count": null,
      "metadata": {
        "colab": {
          "base_uri": "https://localhost:8080/"
        },
        "id": "pywAqRJW_p82",
        "outputId": "e2920a9c-81bc-4a1b-8caf-05660c702319"
      },
      "outputs": [
        {
          "name": "stdout",
          "output_type": "stream",
          "text": [
            "Iteration: 1\n",
            "theta_A = 0.71, theta_B = 0.58, ll = -32.69\n",
            "Iteration: 2\n",
            "theta_A = 0.75, theta_B = 0.57, ll = -31.26\n",
            "Iteration: 3\n",
            "theta_A = 0.77, theta_B = 0.55, ll = -30.76\n",
            "Iteration: 4\n",
            "theta_A = 0.78, theta_B = 0.53, ll = -30.33\n",
            "Iteration: 5\n",
            "theta_A = 0.79, theta_B = 0.53, ll = -30.07\n",
            "Iteration: 6\n",
            "theta_A = 0.79, theta_B = 0.52, ll = -29.95\n",
            "Iteration: 7\n",
            "theta_A = 0.80, theta_B = 0.52, ll = -29.90\n",
            "Iteration: 8\n",
            "theta_A = 0.80, theta_B = 0.52, ll = -29.88\n",
            "Iteration: 9\n",
            "theta_A = 0.80, theta_B = 0.52, ll = -29.87\n"
          ]
        }
      ],
      "source": [
        "xs = np.array([(5,5), (9,1), (8,2), (4,6), (7,3)])\n",
        "thetas = np.array([[0.6, 0.4], [0.5, 0.5]])\n",
        "\n",
        "tol = 0.01\n",
        "max_iter = 100\n",
        "\n",
        "ll_old = 0\n",
        "for i in range(max_iter):\n",
        "    ws_A = []\n",
        "    ws_B = []\n",
        "\n",
        "    vs_A = []\n",
        "    vs_B = []\n",
        "\n",
        "    ll_new = 0\n",
        "\n",
        "    # E-step: calculate probability distributions over possible completions\n",
        "    for x in xs:\n",
        "\n",
        "        # multinomial (binomial) log likelihood\n",
        "        ll_A = np.sum([x*np.log(thetas[0])])\n",
        "        ll_B = np.sum([x*np.log(thetas[1])])\n",
        "\n",
        "        # [EQN 1]\n",
        "        denom = np.exp(ll_A) + np.exp(ll_B)\n",
        "        w_A = np.exp(ll_A)/denom\n",
        "        w_B = np.exp(ll_B)/denom\n",
        "\n",
        "        ws_A.append(w_A)\n",
        "        ws_B.append(w_B)\n",
        "\n",
        "        # used for calculating theta\n",
        "        vs_A.append(np.dot(w_A, x))\n",
        "        vs_B.append(np.dot(w_B, x))\n",
        "\n",
        "        # update complete log likelihood\n",
        "        ll_new += w_A * ll_A + w_B * ll_B\n",
        "\n",
        "    # M-step: update values for parameters given current distribution\n",
        "    # [EQN 2]\n",
        "    thetas[0] = np.sum(vs_A, 0)/np.sum(vs_A)\n",
        "    thetas[1] = np.sum(vs_B, 0)/np.sum(vs_B)\n",
        "    # print distribution of z for each x and current parameter estimate\n",
        "\n",
        "    print( \"Iteration: %d\" % (i+1))\n",
        "    print(\"theta_A = %.2f, theta_B = %.2f, ll = %.2f\" % (thetas[0,0], thetas[1,0], ll_new))\n",
        "\n",
        "    if np.abs(ll_new - ll_old) < tol:\n",
        "        break\n",
        "    ll_old = ll_new"
      ]
    },
    {
      "cell_type": "code",
      "execution_count": null,
      "metadata": {
        "colab": {
          "base_uri": "https://localhost:8080/"
        },
        "id": "bHAR80ysAEA-",
        "outputId": "c8445379-5247-4958-f064-1b8944ee1526"
      },
      "outputs": [
        {
          "name": "stdout",
          "output_type": "stream",
          "text": [
            "Iteration: 1\n",
            "theta_A = 0.71, theta_B = 0.58, ll = -29.63\n",
            "Iteration: 2\n",
            "theta_A = 0.75, theta_B = 0.57, ll = -28.39\n",
            "Iteration: 3\n",
            "theta_A = 0.77, theta_B = 0.55, ll = -28.26\n",
            "Iteration: 4\n",
            "theta_A = 0.78, theta_B = 0.53, ll = -28.16\n",
            "Iteration: 5\n",
            "theta_A = 0.79, theta_B = 0.53, ll = -28.12\n",
            "Iteration: 6\n",
            "theta_A = 0.79, theta_B = 0.52, ll = -28.11\n",
            "Iteration: 7\n",
            "theta_A = 0.80, theta_B = 0.52, ll = -28.10\n"
          ]
        }
      ],
      "source": [
        "xs = np.array([(5,5), (9,1), (8,2), (4,6), (7,3)])\n",
        "thetas = np.array([[0.6, 0.4], [0.5, 0.5]])\n",
        "\n",
        "tol = 0.01\n",
        "max_iter = 100\n",
        "\n",
        "ll_old = -np.infty\n",
        "for i in range(max_iter):\n",
        "    ll_A = np.sum(xs * np.log(thetas[0]), axis=1)\n",
        "    ll_B = np.sum(xs * np.log(thetas[1]), axis=1)\n",
        "    denom = np.exp(ll_A) + np.exp(ll_B)\n",
        "    w_A = np.exp(ll_A)/denom\n",
        "    w_B = np.exp(ll_B)/denom\n",
        "\n",
        "    vs_A = w_A[:, None] * xs\n",
        "    vs_B = w_B[:, None] * xs\n",
        "\n",
        "    thetas[0] = np.sum(vs_A, 0)/np.sum(vs_A)\n",
        "    thetas[1] = np.sum(vs_B, 0)/np.sum(vs_B)\n",
        "\n",
        "    ll_new = w_A.dot(ll_A) + w_B.dot(ll_B) - w_A.dot(np.log(w_A)) - w_B.dot(np.log(w_B))\n",
        "\n",
        "    print(\"Iteration: %d\" % (i+1))\n",
        "    print(\"theta_A = %.2f, theta_B = %.2f, ll = %.2f\" % (thetas[0,0], thetas[1,0], ll_new))\n",
        "\n",
        "    if np.abs(ll_new - ll_old) < tol:\n",
        "        break\n",
        "    ll_old = ll_new\n"
      ]
    },
    {
      "cell_type": "code",
      "execution_count": null,
      "metadata": {
        "id": "B641UZnpAdfT"
      },
      "outputs": [],
      "source": [
        "def em(xs, thetas, max_iter=100, tol=1e-6):\n",
        "    \"\"\"Expectation-maximization for coin sample problem.\"\"\"\n",
        "\n",
        "    ll_old = -np.infty\n",
        "    for i in range(max_iter):\n",
        "        ll = np.array([np.sum(xs * np.log(theta), axis=1) for theta in thetas])\n",
        "        lik = np.exp(ll)\n",
        "        ws = lik/lik.sum(0)\n",
        "        vs = np.array([w[:, None] * xs for w in ws])\n",
        "        thetas = np.array([v.sum(0)/v.sum() for v in vs])\n",
        "        ll_new = np.sum([w*l for w, l in zip(ws, ll)])\n",
        "        if np.abs(ll_new - ll_old) < tol:\n",
        "            break\n",
        "        ll_old = ll_new\n",
        "    return i, thetas, ll_new"
      ]
    },
    {
      "cell_type": "code",
      "execution_count": null,
      "metadata": {
        "colab": {
          "base_uri": "https://localhost:8080/"
        },
        "id": "bF4GPPgRATRr",
        "outputId": "b200b552-f77c-4733-c4b5-7864002d6071"
      },
      "outputs": [
        {
          "name": "stdout",
          "output_type": "stream",
          "text": [
            "18\n",
            "[0.797 0.203]\n",
            "[0.520 0.480]\n",
            "-29.86867615499925\n"
          ]
        }
      ],
      "source": [
        "xs = np.array([(5,5), (9,1), (8,2), (4,6), (7,3)])\n",
        "thetas = np.array([[0.6, 0.4], [0.5, 0.5]])\n",
        "\n",
        "i, thetas, ll = em(xs, thetas)\n",
        "print(i)\n",
        "for theta in thetas:\n",
        "    print(theta)\n",
        "print (ll)"
      ]
    },
    {
      "cell_type": "code",
      "execution_count": null,
      "metadata": {
        "id": "N8CFV3NEAq2f"
      },
      "outputs": [],
      "source": [
        "np.random.seed(1234)\n",
        "\n",
        "n = 100\n",
        "p0 = 0.8\n",
        "p1 = 0.35\n",
        "xs = np.concatenate([np.random.binomial(n, p0, int(n/2)), np.random.binomial(n, p1, int(n/2))])\n",
        "xs = np.column_stack([xs, n-xs])\n",
        "np.random.shuffle(xs)"
      ]
    },
    {
      "cell_type": "code",
      "execution_count": null,
      "metadata": {
        "colab": {
          "base_uri": "https://localhost:8080/"
        },
        "id": "jCIKKDHXAtBf",
        "outputId": "eb540f15-cd0f-4034-a498-dbc821e14f7c"
      },
      "outputs": [
        {
          "name": "stdout",
          "output_type": "stream",
          "text": [
            "4\n",
            "[0.352 0.648]\n",
            "[0.798 0.202]\n",
            "-5756.595651978785\n"
          ]
        }
      ],
      "source": [
        "results = [em(xs, np.random.random((2,2))) for i in range(10)]\n",
        "i, thetas, ll =  sorted(results, key=lambda x: x[-1])[-1]\n",
        "print(i)\n",
        "for theta in thetas:\n",
        "    print(theta)\n",
        "print(ll)"
      ]
    }
  ],
  "metadata": {
    "colab": {
      "provenance": []
    },
    "kernelspec": {
      "display_name": "Python 3",
      "name": "python3"
    },
    "language_info": {
      "name": "python"
    }
  },
  "nbformat": 4,
  "nbformat_minor": 0
}
